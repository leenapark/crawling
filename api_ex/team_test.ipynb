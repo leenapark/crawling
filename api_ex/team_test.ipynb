{
 "cells": [
  {
   "cell_type": "code",
   "execution_count": 15,
   "id": "5fef6f31-78f0-4660-a9ba-e4b0d38366b8",
   "metadata": {},
   "outputs": [
    {
     "ename": "ModuleNotFoundError",
     "evalue": "No module named 'pandas'",
     "output_type": "error",
     "traceback": [
      "\u001b[1;31m---------------------------------------------------------------------------\u001b[0m",
      "\u001b[1;31mModuleNotFoundError\u001b[0m                       Traceback (most recent call last)",
      "Cell \u001b[1;32mIn[15], line 3\u001b[0m\n\u001b[0;32m      1\u001b[0m \u001b[38;5;28;01mimport\u001b[39;00m \u001b[38;5;21;01mrequests\u001b[39;00m\n\u001b[0;32m      2\u001b[0m \u001b[38;5;28;01mfrom\u001b[39;00m \u001b[38;5;21;01mmy_info\u001b[39;00m \u001b[38;5;28;01mimport\u001b[39;00m \u001b[38;5;241m*\u001b[39m\n\u001b[1;32m----> 3\u001b[0m \u001b[38;5;28;01mimport\u001b[39;00m \u001b[38;5;21;01mpandas\u001b[39;00m \u001b[38;5;28;01mas\u001b[39;00m \u001b[38;5;21;01mpd\u001b[39;00m\n",
      "\u001b[1;31mModuleNotFoundError\u001b[0m: No module named 'pandas'"
     ]
    }
   ],
   "source": [
    "import requests\n",
    "from my_info import *\n",
    "import pandas as pd"
   ]
  },
  {
   "cell_type": "code",
   "execution_count": 3,
   "id": "90c11f08-8a43-40d7-a0f4-1d68d54af91e",
   "metadata": {},
   "outputs": [
    {
     "name": "stdout",
     "output_type": "stream",
     "text": [
      "{\"currentCount\":9,\"data\":[{\"공무원(명)\":45774,\"기준일\":\"2014-12-31\",\"비공무원(명)\":206681,\"총계(명)\":252455},{\"공무원(명)\":48540,\"기준일\":\"2015-12-31\",\"비공무원(명)\":223965,\"총계(명)\":272505},{\"공무원(명)\":50265,\"기준일\":\"2016-12-31\",\"비공무원(명)\":243872,\"총계(명)\":294137},{\"공무원(명)\":52211,\"기준일\":\"2017-12-31\",\"비공무원(명)\":249950,\"총계(명)\":302161},{\"공무원(명)\":56315,\"기준일\":\"2018-12-31\",\"비공무원(명)\":268831,\"총계(명)\":325146},{\"공무원(명)\":60398,\"기준일\":\"2019-12-31\",\"비공무원(명)\":251198,\"총계(명)\":311596},{\"공무원(명)\":63164,\"기준일\":\"2020-12-31\",\"비공무원(명)\":259702,\"총계(명)\":322866},{\"공무원(명)\":67913,\"기준일\":\"2021-12-31\",\"비공무원(명)\":263854,\"총계(명)\":331767},{\"공무원(명)\":75367,\"기준일\":\"2022-12-31\",\"비공무원(명)\":272701,\"총계(명)\":348068}],\"matchCount\":9,\"page\":1,\"perPage\":10,\"totalCount\":9}\n",
      "\n"
     ]
    }
   ],
   "source": [
    "\n",
    "import requests\n",
    "from my_info import *\n",
    "\n",
    "# https://api.odcloud.kr/api/15061592/v1/uddi:bf4c0549-bf94-4dc3-8dae-ebcf1c23ea46?page=1&perPage=10&serviceKey=Dibt7eA3UUZSfQH8r2nYBiJPGDUvL9QAs39eO%2FxDRbC3m8QAwLWwLdyEkev7pWYEn52bUgDgUZSTkr4s9xkG0Q%3D%3D\n",
    "\n",
    "url = 'https://api.odcloud.kr/api/15061592/v1/uddi:bf4c0549-bf94-4dc3-8dae-ebcf1c23ea46'\n",
    "params ={\n",
    "    'serviceKey' : ServiceKey,\n",
    "    'page' : 1,\n",
    "    'perPage' : 10\n",
    "    }\n",
    "\n",
    "response = requests.get(url, params=params)\n",
    "print(response.text)"
   ]
  },
  {
   "cell_type": "code",
   "execution_count": null,
   "id": "adcdd8be-d991-4535-9b0e-9898fa25ae37",
   "metadata": {},
   "outputs": [],
   "source": [
    "service_name = \"\"\n"
   ]
  },
  {
   "cell_type": "code",
   "execution_count": 4,
   "id": "ff42f690-7138-44e3-b9d2-0f97dc1d5809",
   "metadata": {},
   "outputs": [
    {
     "name": "stdout",
     "output_type": "stream",
     "text": [
      "{\"StatisticMeta\":{\"list_total_count\":157,\"row\":[{\"LVL\":2,\"P_CONT_CODE\":\"0000000001\",\"CONT_CODE\":\"0000000098\",\"CONT_NAME\":\"무응답률\",\"META_DATA\":null},{\"LVL\":2,\"P_CONT_CODE\":\"0000000001\",\"CONT_CODE\":\"0000000099\",\"CONT_NAME\":\"MSE\",\"META_DATA\":null},{\"LVL\":1,\"P_CONT_CODE\":null,\"CONT_CODE\":\"0000000100\",\"CONT_NAME\":\"예산 인력 교육 홍보\",\"META_DATA\":null},{\"LVL\":2,\"P_CONT_CODE\":\"0000000001\",\"CONT_CODE\":\"0000000101\",\"CONT_NAME\":\"관련 예산\",\"META_DATA\":null},{\"LVL\":2,\"P_CONT_CODE\":\"0000000001\",\"CONT_CODE\":\"0000000102\",\"CONT_NAME\":\"인력\",\"META_DATA\":null},{\"LVL\":2,\"P_CONT_CODE\":\"0000000001\",\"CONT_CODE\":\"0000000103\",\"CONT_NAME\":\"교육\",\"META_DATA\":null},{\"LVL\":2,\"P_CONT_CODE\":\"0000000001\",\"CONT_CODE\":\"0000000104\",\"CONT_NAME\":\"홍보\",\"META_DATA\":null},{\"LVL\":2,\"P_CONT_CODE\":\"0000000108\",\"CONT_CODE\":\"N13\",\"CONT_NAME\":\"참고 자료\",\"META_DATA\":null},{\"LVL\":3,\"P_CONT_CODE\":\"N13\",\"CONT_CODE\":\"0000000105\",\"CONT_NAME\":\"참고 자료\",\"META_DATA\":null},{\"LVL\":3,\"P_CONT_CODE\":\"N13\",\"CONT_CODE\":\"0000000106\",\"CONT_NAME\":\"해외 사례\",\"META_DATA\":null}]}}\n"
     ]
    }
   ],
   "source": [
    "# https://ecos.bok.or.kr/api/StatisticMeta/7N247ZMLX7E935ZXTEPY/json/kr/1/10/경제심리지수\n",
    "\n",
    "url = 'https://ecos.bok.or.kr/api/StatisticMeta/7N247ZMLX7E935ZXTEPY/json/kr/1/10/경제심리지수'\n",
    "# params ={\n",
    "#     'serviceKey' : ServiceKey,\n",
    "#     'page' : 1,\n",
    "#     'perPage' : 10\n",
    "#     }\n",
    "\n",
    "response = requests.get(url)\n",
    "print(response.text)"
   ]
  },
  {
   "cell_type": "code",
   "execution_count": 13,
   "id": "b9602234-bb5e-4d8b-a6ac-0eaef8a2087d",
   "metadata": {},
   "outputs": [
    {
     "ename": "NameError",
     "evalue": "name 'pd' is not defined",
     "output_type": "error",
     "traceback": [
      "\u001b[1;31m---------------------------------------------------------------------------\u001b[0m",
      "\u001b[1;31mNameError\u001b[0m                                 Traceback (most recent call last)",
      "Cell \u001b[1;32mIn[13], line 19\u001b[0m\n\u001b[0;32m     17\u001b[0m test_data \u001b[38;5;241m=\u001b[39m response\u001b[38;5;241m.\u001b[39mjson()\n\u001b[0;32m     18\u001b[0m test_data\n\u001b[1;32m---> 19\u001b[0m df \u001b[38;5;241m=\u001b[39m \u001b[43mpd\u001b[49m\u001b[38;5;241m.\u001b[39mjson_normalize(test_data)\n\u001b[0;32m     20\u001b[0m df\n",
      "\u001b[1;31mNameError\u001b[0m: name 'pd' is not defined"
     ]
    }
   ],
   "source": [
    "# https://kosis.kr/openapi/Param/statisticsParameterData.do?method=getList&apiKey=NTI3ZWRhMGE0Y2NmM2YxYmRmNzdlZWU2ZjE4NWUwZjc=&itmId=T001+&objL1=A01+&objL2=ALL&objL3=&objL4=&objL5=&objL6=&objL7=&objL8=&format=json&jsonVD=Y&prdSe=Y&newEstPrdCnt=3&orgId=127&tblId=DT_120019N_2016_003\n",
    "\n",
    "\n",
    "# url = 'https://kosis.kr/openapi/Param/statisticsParameterData.do'\n",
    "# method = \"?method=getList&\"\n",
    "# apiKey = \"NTI3ZWRhMGE0Y2NmM2YxYmRmNzdlZWU2ZjE4NWUwZjc=\"\n",
    "# itmId = \"itmId=T001+&\"\n",
    "\n",
    "testurl = \"https://kosis.kr/openapi/Param/statisticsParameterData.do?method=getList&apiKey=NTI3ZWRhMGE0Y2NmM2YxYmRmNzdlZWU2ZjE4NWUwZjc=&itmId=T001+&objL1=A01+&objL2=ALL&objL3=&objL4=&objL5=&objL6=&objL7=&objL8=&format=json&jsonVD=Y&prdSe=Y&newEstPrdCnt=3&orgId=127&tblId=DT_120019N_2016_003\"\n",
    "# params ={\n",
    "#     'serviceKey' : ServiceKey,\n",
    "#     'page' : 1,\n",
    "#     'perPage' : 10\n",
    "#     }\n",
    "response = requests.get(testurl)\n",
    "# print(response.text)\n",
    "test_data = response.json()\n",
    "test_data\n",
    "df = pd.json_normalize(test_data)\n",
    "df"
   ]
  },
  {
   "cell_type": "code",
   "execution_count": null,
   "id": "62ffdccf-e6ef-444c-96f1-3ffcc6c3c7d6",
   "metadata": {},
   "outputs": [],
   "source": []
  }
 ],
 "metadata": {
  "kernelspec": {
   "display_name": "Python 3 (ipykernel)",
   "language": "python",
   "name": "python3"
  },
  "language_info": {
   "codemirror_mode": {
    "name": "ipython",
    "version": 3
   },
   "file_extension": ".py",
   "mimetype": "text/x-python",
   "name": "python",
   "nbconvert_exporter": "python",
   "pygments_lexer": "ipython3",
   "version": "3.9.13"
  }
 },
 "nbformat": 4,
 "nbformat_minor": 5
}
